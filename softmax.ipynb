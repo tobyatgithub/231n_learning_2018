{
 "cells": [
  {
   "cell_type": "markdown",
   "metadata": {},
   "source": [
    "# Softmax exercise\n",
    "\n",
    "*Complete and hand in this completed worksheet (including its outputs and any supporting code outside of the worksheet) with your assignment submission. For more details see the [assignments page](http://vision.stanford.edu/teaching/cs231n/assignments.html) on the course website.*\n",
    "\n",
    "This exercise is analogous to the SVM exercise. You will:\n",
    "\n",
    "- implement a fully-vectorized **loss function** for the Softmax classifier\n",
    "- implement the fully-vectorized expression for its **analytic gradient**\n",
    "- **check your implementation** with numerical gradient\n",
    "- use a validation set to **tune the learning rate and regularization** strength\n",
    "- **optimize** the loss function with **SGD**\n",
    "- **visualize** the final learned weights\n"
   ]
  },
  {
   "cell_type": "code",
   "execution_count": 1,
   "metadata": {},
   "outputs": [],
   "source": [
    "import random\n",
    "import numpy as np\n",
    "from cs231n.data_utils import load_CIFAR10\n",
    "import matplotlib.pyplot as plt\n",
    "\n",
    "from __future__ import print_function\n",
    "\n",
    "%matplotlib inline\n",
    "plt.rcParams['figure.figsize'] = (10.0, 8.0) # set default size of plots\n",
    "plt.rcParams['image.interpolation'] = 'nearest'\n",
    "plt.rcParams['image.cmap'] = 'gray'\n",
    "\n",
    "# for auto-reloading extenrnal modules\n",
    "# see http://stackoverflow.com/questions/1907993/autoreload-of-modules-in-ipython\n",
    "%load_ext autoreload\n",
    "%autoreload 2"
   ]
  },
  {
   "cell_type": "code",
   "execution_count": 2,
   "metadata": {},
   "outputs": [
    {
     "name": "stdout",
     "output_type": "stream",
     "text": [
      "Train data shape:  (49000, 3073)\n",
      "Train labels shape:  (49000,)\n",
      "Validation data shape:  (1000, 3073)\n",
      "Validation labels shape:  (1000,)\n",
      "Test data shape:  (1000, 3073)\n",
      "Test labels shape:  (1000,)\n",
      "dev data shape:  (500, 3073)\n",
      "dev labels shape:  (500,)\n"
     ]
    }
   ],
   "source": [
    "def get_CIFAR10_data(num_training=49000, num_validation=1000, num_test=1000, num_dev=500):\n",
    "    \"\"\"\n",
    "    Load the CIFAR-10 dataset from disk and perform preprocessing to prepare\n",
    "    it for the linear classifier. These are the same steps as we used for the\n",
    "    SVM, but condensed to a single function.  \n",
    "    \"\"\"\n",
    "    # Load the raw CIFAR-10 data\n",
    "    cifar10_dir = 'cs231n/datasets/cifar-10-batches-py'\n",
    "    X_train, y_train, X_test, y_test = load_CIFAR10(cifar10_dir)\n",
    "    \n",
    "    # subsample the data\n",
    "    mask = list(range(num_training, num_training + num_validation))\n",
    "    X_val = X_train[mask]\n",
    "    y_val = y_train[mask]\n",
    "    mask = list(range(num_training))\n",
    "    X_train = X_train[mask]\n",
    "    y_train = y_train[mask]\n",
    "    mask = list(range(num_test))\n",
    "    X_test = X_test[mask]\n",
    "    y_test = y_test[mask]\n",
    "    mask = np.random.choice(num_training, num_dev, replace=False)\n",
    "    X_dev = X_train[mask]\n",
    "    y_dev = y_train[mask]\n",
    "    \n",
    "    # Preprocessing: reshape the image data into rows\n",
    "    X_train = np.reshape(X_train, (X_train.shape[0], -1))\n",
    "    X_val = np.reshape(X_val, (X_val.shape[0], -1))\n",
    "    X_test = np.reshape(X_test, (X_test.shape[0], -1))\n",
    "    X_dev = np.reshape(X_dev, (X_dev.shape[0], -1))\n",
    "    \n",
    "    # Normalize the data: subtract the mean image\n",
    "    mean_image = np.mean(X_train, axis = 0)\n",
    "    X_train -= mean_image\n",
    "    X_val -= mean_image\n",
    "    X_test -= mean_image\n",
    "    X_dev -= mean_image\n",
    "    \n",
    "    # add bias dimension and transform into columns\n",
    "    X_train = np.hstack([X_train, np.ones((X_train.shape[0], 1))])\n",
    "    X_val = np.hstack([X_val, np.ones((X_val.shape[0], 1))])\n",
    "    X_test = np.hstack([X_test, np.ones((X_test.shape[0], 1))])\n",
    "    X_dev = np.hstack([X_dev, np.ones((X_dev.shape[0], 1))])\n",
    "    \n",
    "    return X_train, y_train, X_val, y_val, X_test, y_test, X_dev, y_dev\n",
    "\n",
    "\n",
    "# Invoke the above function to get our data.\n",
    "X_train, y_train, X_val, y_val, X_test, y_test, X_dev, y_dev = get_CIFAR10_data()\n",
    "print('Train data shape: ', X_train.shape)\n",
    "print('Train labels shape: ', y_train.shape)\n",
    "print('Validation data shape: ', X_val.shape)\n",
    "print('Validation labels shape: ', y_val.shape)\n",
    "print('Test data shape: ', X_test.shape)\n",
    "print('Test labels shape: ', y_test.shape)\n",
    "print('dev data shape: ', X_dev.shape)\n",
    "print('dev labels shape: ', y_dev.shape)"
   ]
  },
  {
   "cell_type": "markdown",
   "metadata": {},
   "source": [
    "## Softmax Classifier\n",
    "\n",
    "Your code for this section will all be written inside **cs231n/classifiers/softmax.py**. \n"
   ]
  },
  {
   "cell_type": "code",
   "execution_count": 6,
   "metadata": {},
   "outputs": [
    {
     "name": "stdout",
     "output_type": "stream",
     "text": [
      "154.9761224489796\n",
      "(49000, 3073)\n",
      "(49000, 3073)\n"
     ]
    }
   ],
   "source": [
    "X = X_train\n",
    "print(np.max(X))\n",
    "e_x = np.exp(X - np.max(X))\n",
    "print(e_x.shape)\n",
    "sf = e_x/ e_x.sum(axis = 0)\n",
    "print(sf.shape)"
   ]
  },
  {
   "cell_type": "code",
   "execution_count": 39,
   "metadata": {},
   "outputs": [
    {
     "name": "stdout",
     "output_type": "stream",
     "text": [
      "12.574654527723744\n"
     ]
    },
    {
     "data": {
      "text/plain": [
       "85771.72793584621"
      ]
     },
     "execution_count": 39,
     "metadata": {},
     "output_type": "execute_result"
    }
   ],
   "source": [
    "score = X.dot(W)\n",
    "\n",
    "shift_score = (score.T - np.max(score, axis=1).T).T\n",
    "# shift_score[y_train[0]]\n",
    "# np.max(X,axis=1).shape\n",
    "# shift_score\n",
    "print(np.log(np.sum(np.exp(shift_score))))\n",
    "np.sum(np.log(np.sum(np.exp(shift_score),axis=1)))"
   ]
  },
  {
   "cell_type": "code",
   "execution_count": 50,
   "metadata": {},
   "outputs": [
    {
     "data": {
      "text/plain": [
       "1.0"
      ]
     },
     "execution_count": 50,
     "metadata": {},
     "output_type": "execute_result"
    }
   ],
   "source": [
    "soft_matrix = (np.exp(shift_score).T/ np.exp(shift_score).sum(axis=1).T).T\n",
    "soft_matrix[0].sum()"
   ]
  },
  {
   "cell_type": "code",
   "execution_count": 54,
   "metadata": {},
   "outputs": [
    {
     "name": "stdout",
     "output_type": "stream",
     "text": [
      "X (49000, 3073)\n",
      "W (3073, 10)\n"
     ]
    },
    {
     "data": {
      "text/plain": [
       "(49000, 10)"
      ]
     },
     "execution_count": 54,
     "metadata": {},
     "output_type": "execute_result"
    }
   ],
   "source": [
    "print(\"X\",X.shape)\n",
    "print(\"W\",W.shape)\n",
    "soft_matrix.shape"
   ]
  },
  {
   "cell_type": "code",
   "execution_count": 57,
   "metadata": {},
   "outputs": [
    {
     "data": {
      "text/plain": [
       "(3073, 10)"
      ]
     },
     "execution_count": 57,
     "metadata": {},
     "output_type": "execute_result"
    }
   ],
   "source": [
    "\n",
    "((X.T).dot(soft_matrix)).shape"
   ]
  },
  {
   "cell_type": "code",
   "execution_count": 48,
   "metadata": {},
   "outputs": [
    {
     "data": {
      "text/plain": [
       "array([5.47798403, 7.4261119 , 3.001576  , ..., 7.81403349, 4.62753611,\n",
       "       7.25158184])"
      ]
     },
     "execution_count": 48,
     "metadata": {},
     "output_type": "execute_result"
    }
   ],
   "source": [
    "np.exp(shift_score).sum(axis=1)"
   ]
  },
  {
   "cell_type": "code",
   "execution_count": null,
   "metadata": {},
   "outputs": [],
   "source": []
  },
  {
   "cell_type": "code",
   "execution_count": 23,
   "metadata": {},
   "outputs": [
    {
     "data": {
      "text/plain": [
       "1.7831591602967725"
      ]
     },
     "execution_count": 23,
     "metadata": {},
     "output_type": "execute_result"
    }
   ],
   "source": [
    "# ? np.random.randn\n",
    "# np.random.randn(10)\n",
    "np.log(sum(np.exp(shift_score)))"
   ]
  },
  {
   "cell_type": "code",
   "execution_count": 18,
   "metadata": {},
   "outputs": [
    {
     "name": "stdout",
     "output_type": "stream",
     "text": [
      "loss: 2.429061\n",
      "sanity check: 2.302585\n"
     ]
    }
   ],
   "source": [
    "# First implement the naive softmax loss function with nested loops.\n",
    "# Open the file cs231n/classifiers/softmax.py and implement the\n",
    "# softmax_loss_naive function.\n",
    "\n",
    "from cs231n.classifiers.softmax import softmax_loss_naive\n",
    "import time\n",
    "\n",
    "# Generate a random softmax weight matrix and use it to compute the loss.\n",
    "W = np.random.randn(3073, 10) * 0.0001\n",
    "loss, grad = softmax_loss_naive(W, X_dev, y_dev, 0.0)\n",
    "\n",
    "# As a rough sanity check, our loss should be something close to -log(0.1).\n",
    "print('loss: %f' % loss)\n",
    "print('sanity check: %f' % (-np.log(0.1)))"
   ]
  },
  {
   "cell_type": "markdown",
   "metadata": {},
   "source": [
    "## Inline Question 1:\n",
    "Why do we expect our loss to be close to -log(0.1)? Explain briefly.**\n",
    "\n",
    "**Your answer:** *Fill this in*\n",
    "I believe that's because our answer is roughly random, which correspond to a 1/10 chance to guess it correct, thus our loss shall be around -log(10%)"
   ]
  },
  {
   "cell_type": "code",
   "execution_count": 24,
   "metadata": {},
   "outputs": [
    {
     "name": "stdout",
     "output_type": "stream",
     "text": [
      "numerical: 0.345501 analytic: 0.345501, relative error: 4.717764e-08\n",
      "numerical: 0.734968 analytic: 0.734968, relative error: 9.365212e-08\n",
      "numerical: -0.855730 analytic: -0.855730, relative error: 3.656860e-08\n",
      "numerical: -1.392125 analytic: -1.392125, relative error: 2.004080e-08\n",
      "numerical: -3.611391 analytic: -3.611391, relative error: 9.740283e-09\n",
      "numerical: 0.372807 analytic: 0.372807, relative error: 1.137897e-07\n",
      "numerical: 0.695408 analytic: 0.695408, relative error: 1.994121e-08\n",
      "numerical: 1.086350 analytic: 1.086350, relative error: 1.351659e-09\n",
      "numerical: -0.558581 analytic: -0.558581, relative error: 2.078687e-08\n",
      "numerical: 0.513893 analytic: 0.513893, relative error: 1.288391e-07\n",
      "numerical: -0.048249 analytic: -0.048249, relative error: 8.950042e-08\n",
      "numerical: -3.163347 analytic: -3.163347, relative error: 3.744207e-09\n",
      "numerical: 1.980928 analytic: 1.980928, relative error: 2.549602e-08\n",
      "numerical: -0.173992 analytic: -0.173992, relative error: 6.680106e-08\n",
      "numerical: 1.746729 analytic: 1.746729, relative error: 7.729802e-09\n",
      "numerical: 0.125965 analytic: 0.125966, relative error: 1.832892e-07\n",
      "numerical: -2.869035 analytic: -2.869035, relative error: 2.180667e-09\n",
      "numerical: 1.047649 analytic: 1.047649, relative error: 8.375715e-10\n",
      "numerical: -4.046509 analytic: -4.046509, relative error: 1.072605e-08\n",
      "numerical: -3.581635 analytic: -3.581635, relative error: 3.765236e-09\n"
     ]
    }
   ],
   "source": [
    "# Complete the implementation of softmax_loss_naive and implement a (naive)\n",
    "# version of the gradient that uses nested loops.\n",
    "loss, grad = softmax_loss_naive(W, X_dev, y_dev, 0.0)\n",
    "\n",
    "# As we did for the SVM, use numeric gradient checking as a debugging tool.\n",
    "# The numeric gradient should be close to the analytic gradient.\n",
    "from cs231n.gradient_check import grad_check_sparse\n",
    "f = lambda w: softmax_loss_naive(w, X_dev, y_dev, 0.0)[0]\n",
    "grad_numerical = grad_check_sparse(f, W, grad, 10)\n",
    "\n",
    "# similar to SVM case, do another gradient check with regularization\n",
    "loss, grad = softmax_loss_naive(W, X_dev, y_dev, 5e1)\n",
    "f = lambda w: softmax_loss_naive(w, X_dev, y_dev, 5e1)[0]\n",
    "grad_numerical = grad_check_sparse(f, W, grad, 10)"
   ]
  },
  {
   "cell_type": "code",
   "execution_count": 62,
   "metadata": {},
   "outputs": [
    {
     "name": "stdout",
     "output_type": "stream",
     "text": [
      "naive loss: 2.429061e+00 computed in 0.182115s\n",
      "coeff (500, 10)\n",
      "X (500, 3073)\n",
      "vectorized loss: 2.429061e+00 computed in 0.005308s\n",
      "Loss difference: 0.000000\n",
      "Gradient difference: 0.000000\n"
     ]
    }
   ],
   "source": [
    "# Now that we have a naive implementation of the softmax loss function and its gradient,\n",
    "# implement a vectorized version in softmax_loss_vectorized.\n",
    "# The two versions should compute the same results, but the vectorized version should be\n",
    "# much faster.\n",
    "tic = time.time()\n",
    "loss_naive, grad_naive = softmax_loss_naive(W, X_dev, y_dev, 0.000005)\n",
    "toc = time.time()\n",
    "print('naive loss: %e computed in %fs' % (loss_naive, toc - tic))\n",
    "\n",
    "from cs231n.classifiers.softmax import softmax_loss_vectorized\n",
    "tic = time.time()\n",
    "loss_vectorized, grad_vectorized = softmax_loss_vectorized(W, X_dev, y_dev, 0.000005)\n",
    "toc = time.time()\n",
    "print('vectorized loss: %e computed in %fs' % (loss_vectorized, toc - tic))\n",
    "\n",
    "# As we did for the SVM, we use the Frobenius norm to compare the two versions\n",
    "# of the gradient.\n",
    "grad_difference = np.linalg.norm(grad_naive - grad_vectorized, ord='fro')\n",
    "print('Loss difference: %f' % np.abs(loss_naive - loss_vectorized))\n",
    "print('Gradient difference: %f' % grad_difference)"
   ]
  },
  {
   "cell_type": "code",
   "execution_count": 65,
   "metadata": {
    "scrolled": true
   },
   "outputs": [
    {
     "name": "stdout",
     "output_type": "stream",
     "text": [
      "iteration 0 / 2000: loss 387.625640\n",
      "iteration 100 / 2000: loss 233.962271\n",
      "iteration 200 / 2000: loss 142.085135\n",
      "iteration 300 / 2000: loss 86.775988\n",
      "iteration 400 / 2000: loss 53.163968\n",
      "iteration 500 / 2000: loss 32.941125\n",
      "iteration 600 / 2000: loss 20.731636\n",
      "iteration 700 / 2000: loss 13.378919\n",
      "iteration 800 / 2000: loss 8.876126\n",
      "iteration 900 / 2000: loss 6.129752\n",
      "iteration 1000 / 2000: loss 4.565810\n",
      "iteration 1100 / 2000: loss 3.545105\n",
      "iteration 1200 / 2000: loss 2.989231\n",
      "iteration 1300 / 2000: loss 2.538169\n",
      "iteration 1400 / 2000: loss 2.428221\n",
      "iteration 1500 / 2000: loss 2.208368\n",
      "iteration 1600 / 2000: loss 2.188053\n",
      "iteration 1700 / 2000: loss 2.113417\n",
      "iteration 1800 / 2000: loss 2.077383\n",
      "iteration 1900 / 2000: loss 2.028000\n",
      "training accuracy: 0.351388\n",
      "validation accuracy: 0.361000\n",
      "iteration 0 / 2000: loss 779.175122\n",
      "iteration 100 / 2000: loss 286.164017\n",
      "iteration 200 / 2000: loss 106.009031\n",
      "iteration 300 / 2000: loss 40.065377\n",
      "iteration 400 / 2000: loss 15.997035\n",
      "iteration 500 / 2000: loss 7.160950\n",
      "iteration 600 / 2000: loss 3.882053\n",
      "iteration 700 / 2000: loss 2.755715\n",
      "iteration 800 / 2000: loss 2.305019\n",
      "iteration 900 / 2000: loss 2.130491\n",
      "iteration 1000 / 2000: loss 2.110555\n",
      "iteration 1100 / 2000: loss 2.053007\n",
      "iteration 1200 / 2000: loss 2.146047\n",
      "iteration 1300 / 2000: loss 2.034954\n",
      "iteration 1400 / 2000: loss 2.131974\n",
      "iteration 1500 / 2000: loss 2.102619\n",
      "iteration 1600 / 2000: loss 2.086916\n",
      "iteration 1700 / 2000: loss 2.067287\n",
      "iteration 1800 / 2000: loss 2.133479\n",
      "iteration 1900 / 2000: loss 2.098011\n",
      "training accuracy: 0.332469\n",
      "validation accuracy: 0.341000\n",
      "iteration 0 / 2000: loss 394.164391\n",
      "iteration 100 / 2000: loss 33.202833\n",
      "iteration 200 / 2000: loss 4.474677\n",
      "iteration 300 / 2000: loss 2.230685\n",
      "iteration 400 / 2000: loss 2.100956\n",
      "iteration 500 / 2000: loss 2.029944\n",
      "iteration 600 / 2000: loss 2.010593\n",
      "iteration 700 / 2000: loss 2.082611\n",
      "iteration 800 / 2000: loss 2.062134\n",
      "iteration 900 / 2000: loss 2.065877\n",
      "iteration 1000 / 2000: loss 2.023268\n",
      "iteration 1100 / 2000: loss 2.075192\n",
      "iteration 1200 / 2000: loss 2.038235\n",
      "iteration 1300 / 2000: loss 2.039841\n",
      "iteration 1400 / 2000: loss 1.989042\n",
      "iteration 1500 / 2000: loss 1.993699\n",
      "iteration 1600 / 2000: loss 2.057643\n",
      "iteration 1700 / 2000: loss 2.008262\n",
      "iteration 1800 / 2000: loss 2.012711\n",
      "iteration 1900 / 2000: loss 1.998199\n",
      "training accuracy: 0.343816\n",
      "validation accuracy: 0.345000\n",
      "iteration 0 / 2000: loss 779.731809\n",
      "iteration 100 / 2000: loss 6.929343\n",
      "iteration 200 / 2000: loss 2.139557\n",
      "iteration 300 / 2000: loss 2.121533\n",
      "iteration 400 / 2000: loss 2.112580\n",
      "iteration 500 / 2000: loss 2.131333\n",
      "iteration 600 / 2000: loss 2.044648\n",
      "iteration 700 / 2000: loss 2.102259\n",
      "iteration 800 / 2000: loss 2.114889\n",
      "iteration 900 / 2000: loss 2.158275\n",
      "iteration 1000 / 2000: loss 2.088267\n",
      "iteration 1100 / 2000: loss 2.102081\n",
      "iteration 1200 / 2000: loss 2.048439\n",
      "iteration 1300 / 2000: loss 2.076513\n",
      "iteration 1400 / 2000: loss 2.016516\n",
      "iteration 1500 / 2000: loss 2.070536\n",
      "iteration 1600 / 2000: loss 2.052821\n",
      "iteration 1700 / 2000: loss 2.085643\n",
      "iteration 1800 / 2000: loss 2.115737\n",
      "iteration 1900 / 2000: loss 2.128300\n",
      "training accuracy: 0.320796\n",
      "validation accuracy: 0.333000\n",
      "lr 1.000000e-07 reg 2.500000e+04 train accuracy: 0.351388 val accuracy: 0.361000\n",
      "lr 1.000000e-07 reg 5.000000e+04 train accuracy: 0.332469 val accuracy: 0.341000\n",
      "lr 5.000000e-07 reg 2.500000e+04 train accuracy: 0.343816 val accuracy: 0.345000\n",
      "lr 5.000000e-07 reg 5.000000e+04 train accuracy: 0.320796 val accuracy: 0.333000\n",
      "best validation accuracy achieved during cross-validation: 0.361000\n"
     ]
    }
   ],
   "source": [
    "# Use the validation set to tune hyperparameters (regularization strength and\n",
    "# learning rate). You should experiment with different ranges for the learning\n",
    "# rates and regularization strengths; if you are careful you should be able to\n",
    "# get a classification accuracy of over 0.35 on the validation set.\n",
    "from cs231n.classifiers import Softmax\n",
    "results = {}\n",
    "best_val = -1\n",
    "best_softmax = None\n",
    "learning_rates = [1e-7, 5e-7]\n",
    "regularization_strengths = [2.5e4, 5e4]\n",
    "\n",
    "################################################################################\n",
    "# TODO:                                                                        #\n",
    "# Use the validation set to set the learning rate and regularization strength. #\n",
    "# This should be identical to the validation that you did for the SVM; save    #\n",
    "# the best trained softmax classifer in best_softmax.                          #\n",
    "################################################################################\n",
    "for l in learning_rates:\n",
    "    for r in regularization_strengths:\n",
    "        softmax = Softmax()\n",
    "        loss_hist = softmax.train(X_train, y_train, l, r,num_iters=2000, verbose=True)\n",
    "        \n",
    "        y_train_pred = softmax.predict(X_train)\n",
    "        train_score = np.mean(y_train == y_train_pred)\n",
    "        print('training accuracy: %f' % (np.mean(y_train == y_train_pred), ))\n",
    "        \n",
    "        y_val_pred = softmax.predict(X_val)\n",
    "        val_score = np.mean(y_val == y_val_pred)\n",
    "        print('validation accuracy: %f' % (np.mean(y_val == y_val_pred), ))\n",
    "\n",
    "        results[(l,r)] = (train_score, val_score)\n",
    "        if val_score > best_val:\n",
    "            best_val = val_score\n",
    "            best_softmax = softmax        \n",
    "################################################################################\n",
    "#                              END OF YOUR CODE                                #\n",
    "################################################################################\n",
    "    \n",
    "# Print out results.\n",
    "for lr, reg in sorted(results):\n",
    "    train_accuracy, val_accuracy = results[(lr, reg)]\n",
    "    print('lr %e reg %e train accuracy: %f val accuracy: %f' % (\n",
    "                lr, reg, train_accuracy, val_accuracy))\n",
    "    \n",
    "print('best validation accuracy achieved during cross-validation: %f' % best_val)"
   ]
  },
  {
   "cell_type": "code",
   "execution_count": 66,
   "metadata": {},
   "outputs": [
    {
     "name": "stdout",
     "output_type": "stream",
     "text": [
      "softmax on raw pixels final test set accuracy: 0.365000\n"
     ]
    }
   ],
   "source": [
    "# evaluate on test set\n",
    "# Evaluate the best softmax on test set\n",
    "y_test_pred = best_softmax.predict(X_test)\n",
    "test_accuracy = np.mean(y_test == y_test_pred)\n",
    "print('softmax on raw pixels final test set accuracy: %f' % (test_accuracy, ))"
   ]
  },
  {
   "cell_type": "code",
   "execution_count": 67,
   "metadata": {},
   "outputs": [
    {
     "data": {
      "image/png": "[encoded data removed]",
      "text/plain": [
       "<Figure size 432x288 with 10 Axes>"
      ]
     },
     "metadata": {},
     "output_type": "display_data"
    }
   ],
   "source": [
    "# Visualize the learned weights for each class\n",
    "w = best_softmax.W[:-1,:] # strip out the bias\n",
    "w = w.reshape(32, 32, 3, 10)\n",
    "\n",
    "w_min, w_max = np.min(w), np.max(w)\n",
    "\n",
    "classes = ['plane', 'car', 'bird', 'cat', 'deer', 'dog', 'frog', 'horse', 'ship', 'truck']\n",
    "for i in range(10):\n",
    "    plt.subplot(2, 5, i + 1)\n",
    "    \n",
    "    # Rescale the weights to be between 0 and 255\n",
    "    wimg = 255.0 * (w[:, :, :, i].squeeze() - w_min) / (w_max - w_min)\n",
    "    plt.imshow(wimg.astype('uint8'))\n",
    "    plt.axis('off')\n",
    "    plt.title(classes[i])"
   ]
  },
  {
   "cell_type": "code",
   "execution_count": null,
   "metadata": {},
   "outputs": [],
   "source": []
  }
 ],
 "metadata": {
  "kernelspec": {
   "display_name": "Python 3",
   "language": "python",
   "name": "python3"
  },
  "language_info": {
   "codemirror_mode": {
    "name": "ipython",
    "version": 3
   },
   "file_extension": ".py",
   "mimetype": "text/x-python",
   "name": "python",
   "nbconvert_exporter": "python",
   "pygments_lexer": "ipython3",
   "version": "3.6.5"
  }
 },
 "nbformat": 4,
 "nbformat_minor": 1
}
